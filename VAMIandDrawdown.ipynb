{
  "nbformat": 4,
  "nbformat_minor": 0,
  "metadata": {
    "colab": {
      "name": "VAMIandDrawdown.ipynb",
      "provenance": [],
      "authorship_tag": "ABX9TyONs/sMS6qNR6TUTl7kbJeZ",
      "include_colab_link": true
    },
    "kernelspec": {
      "name": "python3",
      "display_name": "Python 3"
    }
  },
  "cells": [
    {
      "cell_type": "markdown",
      "metadata": {
        "id": "view-in-github",
        "colab_type": "text"
      },
      "source": [
        "<a href=\"https://colab.research.google.com/github/vamseeky/finance/blob/master/VAMIandDrawdown.ipynb\" target=\"_parent\"><img src=\"https://colab.research.google.com/assets/colab-badge.svg\" alt=\"Open In Colab\"/></a>"
      ]
    },
    {
      "cell_type": "code",
      "metadata": {
        "id": "WgF8Pr0_5KWX",
        "colab_type": "code",
        "colab": {}
      },
      "source": [
        ""
      ],
      "execution_count": 0,
      "outputs": []
    },
    {
      "cell_type": "code",
      "metadata": {
        "id": "eu7OraIn5MpB",
        "colab_type": "code",
        "colab": {}
      },
      "source": [
        "from google.colab import drive\n",
        "drive.mount('/content/drive')"
      ],
      "execution_count": 0,
      "outputs": []
    },
    {
      "cell_type": "markdown",
      "metadata": {
        "id": "CfaKI9DR7fJJ",
        "colab_type": "text"
      },
      "source": [
        "Using \"parse_dates\" to identify time lines\n",
        "\n",
        "Using drop.na() to drop the first NaN lines"
      ]
    },
    {
      "cell_type": "code",
      "metadata": {
        "id": "RDjQ4zaq5Tfx",
        "colab_type": "code",
        "colab": {
          "base_uri": "https://localhost:8080/",
          "height": 202
        },
        "outputId": "5332c4ba-0959-4fee-d9b9-ddc62f7456d7"
      },
      "source": [
        "import pandas as pd\n",
        "prices = pd.read_csv('index_prices.csv',\n",
        "                     header=0, index_col=0, parse_dates=True)\n",
        "rors = prices.pct_change()\n",
        "rors = rors.dropna()\n",
        "rors.head()"
      ],
      "execution_count": 15,
      "outputs": [
        {
          "output_type": "execute_result",
          "data": {
            "text/html": [
              "<div>\n",
              "<style scoped>\n",
              "    .dataframe tbody tr th:only-of-type {\n",
              "        vertical-align: middle;\n",
              "    }\n",
              "\n",
              "    .dataframe tbody tr th {\n",
              "        vertical-align: top;\n",
              "    }\n",
              "\n",
              "    .dataframe thead th {\n",
              "        text-align: right;\n",
              "    }\n",
              "</style>\n",
              "<table border=\"1\" class=\"dataframe\">\n",
              "  <thead>\n",
              "    <tr style=\"text-align: right;\">\n",
              "      <th></th>\n",
              "      <th>SPXT Index</th>\n",
              "      <th>SPTRMDCP Index</th>\n",
              "      <th>SPTRSMCP Index</th>\n",
              "      <th>LBUSTRUU Index</th>\n",
              "      <th>SPGSCITR Index</th>\n",
              "    </tr>\n",
              "  </thead>\n",
              "  <tbody>\n",
              "    <tr>\n",
              "      <th>1994-02-28</th>\n",
              "      <td>-0.027148</td>\n",
              "      <td>-0.014212</td>\n",
              "      <td>-0.002911</td>\n",
              "      <td>-0.017373</td>\n",
              "      <td>-0.021740</td>\n",
              "    </tr>\n",
              "    <tr>\n",
              "      <th>1994-03-31</th>\n",
              "      <td>-0.043599</td>\n",
              "      <td>-0.046291</td>\n",
              "      <td>-0.071811</td>\n",
              "      <td>-0.024654</td>\n",
              "      <td>-0.011907</td>\n",
              "    </tr>\n",
              "    <tr>\n",
              "      <th>1994-04-29</th>\n",
              "      <td>0.012824</td>\n",
              "      <td>0.007421</td>\n",
              "      <td>0.015032</td>\n",
              "      <td>-0.007985</td>\n",
              "      <td>0.026189</td>\n",
              "    </tr>\n",
              "    <tr>\n",
              "      <th>1994-05-31</th>\n",
              "      <td>0.016418</td>\n",
              "      <td>-0.009494</td>\n",
              "      <td>-0.019760</td>\n",
              "      <td>-0.000140</td>\n",
              "      <td>0.014880</td>\n",
              "    </tr>\n",
              "    <tr>\n",
              "      <th>1994-06-30</th>\n",
              "      <td>-0.024505</td>\n",
              "      <td>-0.034430</td>\n",
              "      <td>-0.037176</td>\n",
              "      <td>-0.002210</td>\n",
              "      <td>0.024599</td>\n",
              "    </tr>\n",
              "  </tbody>\n",
              "</table>\n",
              "</div>"
            ],
            "text/plain": [
              "            SPXT Index  SPTRMDCP Index  ...  LBUSTRUU Index  SPGSCITR Index\n",
              "1994-02-28   -0.027148       -0.014212  ...       -0.017373       -0.021740\n",
              "1994-03-31   -0.043599       -0.046291  ...       -0.024654       -0.011907\n",
              "1994-04-29    0.012824        0.007421  ...       -0.007985        0.026189\n",
              "1994-05-31    0.016418       -0.009494  ...       -0.000140        0.014880\n",
              "1994-06-30   -0.024505       -0.034430  ...       -0.002210        0.024599\n",
              "\n",
              "[5 rows x 5 columns]"
            ]
          },
          "metadata": {
            "tags": []
          },
          "execution_count": 15
        }
      ]
    },
    {
      "cell_type": "markdown",
      "metadata": {
        "id": "V0quiBsd7-J9",
        "colab_type": "text"
      },
      "source": [
        "Renaming the column headers"
      ]
    },
    {
      "cell_type": "code",
      "metadata": {
        "id": "EXekBd4p6Z_p",
        "colab_type": "code",
        "colab": {
          "base_uri": "https://localhost:8080/",
          "height": 202
        },
        "outputId": "1f6ae201-e2af-4ac8-b0d4-ea54ceafaea0"
      },
      "source": [
        "rors.columns = ['LrgCap','MidCap','SmCap','Bonds','Comdty']\n",
        "rors.head()"
      ],
      "execution_count": 16,
      "outputs": [
        {
          "output_type": "execute_result",
          "data": {
            "text/html": [
              "<div>\n",
              "<style scoped>\n",
              "    .dataframe tbody tr th:only-of-type {\n",
              "        vertical-align: middle;\n",
              "    }\n",
              "\n",
              "    .dataframe tbody tr th {\n",
              "        vertical-align: top;\n",
              "    }\n",
              "\n",
              "    .dataframe thead th {\n",
              "        text-align: right;\n",
              "    }\n",
              "</style>\n",
              "<table border=\"1\" class=\"dataframe\">\n",
              "  <thead>\n",
              "    <tr style=\"text-align: right;\">\n",
              "      <th></th>\n",
              "      <th>LrgCap</th>\n",
              "      <th>MidCap</th>\n",
              "      <th>SmCap</th>\n",
              "      <th>Bonds</th>\n",
              "      <th>Comdty</th>\n",
              "    </tr>\n",
              "  </thead>\n",
              "  <tbody>\n",
              "    <tr>\n",
              "      <th>1994-02-28</th>\n",
              "      <td>-0.027148</td>\n",
              "      <td>-0.014212</td>\n",
              "      <td>-0.002911</td>\n",
              "      <td>-0.017373</td>\n",
              "      <td>-0.021740</td>\n",
              "    </tr>\n",
              "    <tr>\n",
              "      <th>1994-03-31</th>\n",
              "      <td>-0.043599</td>\n",
              "      <td>-0.046291</td>\n",
              "      <td>-0.071811</td>\n",
              "      <td>-0.024654</td>\n",
              "      <td>-0.011907</td>\n",
              "    </tr>\n",
              "    <tr>\n",
              "      <th>1994-04-29</th>\n",
              "      <td>0.012824</td>\n",
              "      <td>0.007421</td>\n",
              "      <td>0.015032</td>\n",
              "      <td>-0.007985</td>\n",
              "      <td>0.026189</td>\n",
              "    </tr>\n",
              "    <tr>\n",
              "      <th>1994-05-31</th>\n",
              "      <td>0.016418</td>\n",
              "      <td>-0.009494</td>\n",
              "      <td>-0.019760</td>\n",
              "      <td>-0.000140</td>\n",
              "      <td>0.014880</td>\n",
              "    </tr>\n",
              "    <tr>\n",
              "      <th>1994-06-30</th>\n",
              "      <td>-0.024505</td>\n",
              "      <td>-0.034430</td>\n",
              "      <td>-0.037176</td>\n",
              "      <td>-0.002210</td>\n",
              "      <td>0.024599</td>\n",
              "    </tr>\n",
              "  </tbody>\n",
              "</table>\n",
              "</div>"
            ],
            "text/plain": [
              "              LrgCap    MidCap     SmCap     Bonds    Comdty\n",
              "1994-02-28 -0.027148 -0.014212 -0.002911 -0.017373 -0.021740\n",
              "1994-03-31 -0.043599 -0.046291 -0.071811 -0.024654 -0.011907\n",
              "1994-04-29  0.012824  0.007421  0.015032 -0.007985  0.026189\n",
              "1994-05-31  0.016418 -0.009494 -0.019760 -0.000140  0.014880\n",
              "1994-06-30 -0.024505 -0.034430 -0.037176 -0.002210  0.024599"
            ]
          },
          "metadata": {
            "tags": []
          },
          "execution_count": 16
        }
      ]
    },
    {
      "cell_type": "markdown",
      "metadata": {
        "id": "SG84Yhqr8CJU",
        "colab_type": "text"
      },
      "source": [
        "Creating Value Added Monthly Index (VAMI or NAV)"
      ]
    },
    {
      "cell_type": "code",
      "metadata": {
        "id": "-o5SPiI67Cta",
        "colab_type": "code",
        "colab": {
          "base_uri": "https://localhost:8080/",
          "height": 156
        },
        "outputId": "125d9d73-a5c3-48e6-f41e-a8c0b07770e2"
      },
      "source": [
        "rors.index #first check and make sure that index is time line\n",
        "#https://pandas.pydata.org/docs/reference/api/pandas.to_datetime.html#pandas.to_datetime\n"
      ],
      "execution_count": 17,
      "outputs": [
        {
          "output_type": "execute_result",
          "data": {
            "text/plain": [
              "DatetimeIndex(['1994-02-28', '1994-03-31', '1994-04-29', '1994-05-31',\n",
              "               '1994-06-30', '1994-07-29', '1994-08-31', '1994-09-30',\n",
              "               '1994-10-31', '1994-11-30',\n",
              "               ...\n",
              "               '2019-04-30', '2019-05-31', '2019-06-28', '2019-07-31',\n",
              "               '2019-08-30', '2019-09-30', '2019-10-31', '2019-11-29',\n",
              "               '2019-12-31', '2020-01-31'],\n",
              "              dtype='datetime64[ns]', length=312, freq=None)"
            ]
          },
          "metadata": {
            "tags": []
          },
          "execution_count": 17
        }
      ]
    },
    {
      "cell_type": "code",
      "metadata": {
        "id": "WTATieX297jF",
        "colab_type": "code",
        "colab": {
          "base_uri": "https://localhost:8080/",
          "height": 202
        },
        "outputId": "dab2fba0-a849-4ea9-9260-952b8d89ec1e"
      },
      "source": [
        "rors.index = rors.index.to_period('M') #Second: convert returns into periodic returns\n",
        "rors.head()"
      ],
      "execution_count": 18,
      "outputs": [
        {
          "output_type": "execute_result",
          "data": {
            "text/html": [
              "<div>\n",
              "<style scoped>\n",
              "    .dataframe tbody tr th:only-of-type {\n",
              "        vertical-align: middle;\n",
              "    }\n",
              "\n",
              "    .dataframe tbody tr th {\n",
              "        vertical-align: top;\n",
              "    }\n",
              "\n",
              "    .dataframe thead th {\n",
              "        text-align: right;\n",
              "    }\n",
              "</style>\n",
              "<table border=\"1\" class=\"dataframe\">\n",
              "  <thead>\n",
              "    <tr style=\"text-align: right;\">\n",
              "      <th></th>\n",
              "      <th>LrgCap</th>\n",
              "      <th>MidCap</th>\n",
              "      <th>SmCap</th>\n",
              "      <th>Bonds</th>\n",
              "      <th>Comdty</th>\n",
              "    </tr>\n",
              "  </thead>\n",
              "  <tbody>\n",
              "    <tr>\n",
              "      <th>1994-02</th>\n",
              "      <td>-0.027148</td>\n",
              "      <td>-0.014212</td>\n",
              "      <td>-0.002911</td>\n",
              "      <td>-0.017373</td>\n",
              "      <td>-0.021740</td>\n",
              "    </tr>\n",
              "    <tr>\n",
              "      <th>1994-03</th>\n",
              "      <td>-0.043599</td>\n",
              "      <td>-0.046291</td>\n",
              "      <td>-0.071811</td>\n",
              "      <td>-0.024654</td>\n",
              "      <td>-0.011907</td>\n",
              "    </tr>\n",
              "    <tr>\n",
              "      <th>1994-04</th>\n",
              "      <td>0.012824</td>\n",
              "      <td>0.007421</td>\n",
              "      <td>0.015032</td>\n",
              "      <td>-0.007985</td>\n",
              "      <td>0.026189</td>\n",
              "    </tr>\n",
              "    <tr>\n",
              "      <th>1994-05</th>\n",
              "      <td>0.016418</td>\n",
              "      <td>-0.009494</td>\n",
              "      <td>-0.019760</td>\n",
              "      <td>-0.000140</td>\n",
              "      <td>0.014880</td>\n",
              "    </tr>\n",
              "    <tr>\n",
              "      <th>1994-06</th>\n",
              "      <td>-0.024505</td>\n",
              "      <td>-0.034430</td>\n",
              "      <td>-0.037176</td>\n",
              "      <td>-0.002210</td>\n",
              "      <td>0.024599</td>\n",
              "    </tr>\n",
              "  </tbody>\n",
              "</table>\n",
              "</div>"
            ],
            "text/plain": [
              "           LrgCap    MidCap     SmCap     Bonds    Comdty\n",
              "1994-02 -0.027148 -0.014212 -0.002911 -0.017373 -0.021740\n",
              "1994-03 -0.043599 -0.046291 -0.071811 -0.024654 -0.011907\n",
              "1994-04  0.012824  0.007421  0.015032 -0.007985  0.026189\n",
              "1994-05  0.016418 -0.009494 -0.019760 -0.000140  0.014880\n",
              "1994-06 -0.024505 -0.034430 -0.037176 -0.002210  0.024599"
            ]
          },
          "metadata": {
            "tags": []
          },
          "execution_count": 18
        }
      ]
    },
    {
      "cell_type": "code",
      "metadata": {
        "id": "idWR-3g3-qAs",
        "colab_type": "code",
        "colab": {
          "base_uri": "https://localhost:8080/",
          "height": 417
        },
        "outputId": "3250ee6b-3a84-4a49-cc23-5cbcf65d5794"
      },
      "source": [
        "rors[\"2019\"] # now you can see specific periodic returns from data"
      ],
      "execution_count": 19,
      "outputs": [
        {
          "output_type": "execute_result",
          "data": {
            "text/html": [
              "<div>\n",
              "<style scoped>\n",
              "    .dataframe tbody tr th:only-of-type {\n",
              "        vertical-align: middle;\n",
              "    }\n",
              "\n",
              "    .dataframe tbody tr th {\n",
              "        vertical-align: top;\n",
              "    }\n",
              "\n",
              "    .dataframe thead th {\n",
              "        text-align: right;\n",
              "    }\n",
              "</style>\n",
              "<table border=\"1\" class=\"dataframe\">\n",
              "  <thead>\n",
              "    <tr style=\"text-align: right;\">\n",
              "      <th></th>\n",
              "      <th>LrgCap</th>\n",
              "      <th>MidCap</th>\n",
              "      <th>SmCap</th>\n",
              "      <th>Bonds</th>\n",
              "      <th>Comdty</th>\n",
              "    </tr>\n",
              "  </thead>\n",
              "  <tbody>\n",
              "    <tr>\n",
              "      <th>2019-01</th>\n",
              "      <td>0.080135</td>\n",
              "      <td>0.104604</td>\n",
              "      <td>0.106357</td>\n",
              "      <td>0.010622</td>\n",
              "      <td>0.089885</td>\n",
              "    </tr>\n",
              "    <tr>\n",
              "      <th>2019-02</th>\n",
              "      <td>0.032108</td>\n",
              "      <td>0.042393</td>\n",
              "      <td>0.043536</td>\n",
              "      <td>-0.000580</td>\n",
              "      <td>0.038134</td>\n",
              "    </tr>\n",
              "    <tr>\n",
              "      <th>2019-03</th>\n",
              "      <td>0.019431</td>\n",
              "      <td>-0.005689</td>\n",
              "      <td>-0.033310</td>\n",
              "      <td>0.019200</td>\n",
              "      <td>0.016092</td>\n",
              "    </tr>\n",
              "    <tr>\n",
              "      <th>2019-04</th>\n",
              "      <td>0.040489</td>\n",
              "      <td>0.040206</td>\n",
              "      <td>0.038737</td>\n",
              "      <td>0.000256</td>\n",
              "      <td>0.028493</td>\n",
              "    </tr>\n",
              "    <tr>\n",
              "      <th>2019-05</th>\n",
              "      <td>-0.063548</td>\n",
              "      <td>-0.079712</td>\n",
              "      <td>-0.087283</td>\n",
              "      <td>0.017752</td>\n",
              "      <td>-0.082137</td>\n",
              "    </tr>\n",
              "    <tr>\n",
              "      <th>2019-06</th>\n",
              "      <td>0.070477</td>\n",
              "      <td>0.076426</td>\n",
              "      <td>0.074465</td>\n",
              "      <td>0.012556</td>\n",
              "      <td>0.044304</td>\n",
              "    </tr>\n",
              "    <tr>\n",
              "      <th>2019-07</th>\n",
              "      <td>0.014373</td>\n",
              "      <td>0.011887</td>\n",
              "      <td>0.011366</td>\n",
              "      <td>0.002201</td>\n",
              "      <td>-0.002114</td>\n",
              "    </tr>\n",
              "    <tr>\n",
              "      <th>2019-08</th>\n",
              "      <td>-0.015841</td>\n",
              "      <td>-0.041943</td>\n",
              "      <td>-0.045080</td>\n",
              "      <td>0.025913</td>\n",
              "      <td>-0.056230</td>\n",
              "    </tr>\n",
              "    <tr>\n",
              "      <th>2019-09</th>\n",
              "      <td>0.018711</td>\n",
              "      <td>0.030629</td>\n",
              "      <td>0.033373</td>\n",
              "      <td>-0.005325</td>\n",
              "      <td>0.017492</td>\n",
              "    </tr>\n",
              "    <tr>\n",
              "      <th>2019-10</th>\n",
              "      <td>0.021659</td>\n",
              "      <td>0.011301</td>\n",
              "      <td>0.019475</td>\n",
              "      <td>0.003012</td>\n",
              "      <td>0.012448</td>\n",
              "    </tr>\n",
              "    <tr>\n",
              "      <th>2019-11</th>\n",
              "      <td>0.036299</td>\n",
              "      <td>0.029749</td>\n",
              "      <td>0.030647</td>\n",
              "      <td>-0.000512</td>\n",
              "      <td>-0.000128</td>\n",
              "    </tr>\n",
              "    <tr>\n",
              "      <th>2019-12</th>\n",
              "      <td>0.030183</td>\n",
              "      <td>0.028095</td>\n",
              "      <td>0.029891</td>\n",
              "      <td>-0.000696</td>\n",
              "      <td>0.069880</td>\n",
              "    </tr>\n",
              "  </tbody>\n",
              "</table>\n",
              "</div>"
            ],
            "text/plain": [
              "           LrgCap    MidCap     SmCap     Bonds    Comdty\n",
              "2019-01  0.080135  0.104604  0.106357  0.010622  0.089885\n",
              "2019-02  0.032108  0.042393  0.043536 -0.000580  0.038134\n",
              "2019-03  0.019431 -0.005689 -0.033310  0.019200  0.016092\n",
              "2019-04  0.040489  0.040206  0.038737  0.000256  0.028493\n",
              "2019-05 -0.063548 -0.079712 -0.087283  0.017752 -0.082137\n",
              "2019-06  0.070477  0.076426  0.074465  0.012556  0.044304\n",
              "2019-07  0.014373  0.011887  0.011366  0.002201 -0.002114\n",
              "2019-08 -0.015841 -0.041943 -0.045080  0.025913 -0.056230\n",
              "2019-09  0.018711  0.030629  0.033373 -0.005325  0.017492\n",
              "2019-10  0.021659  0.011301  0.019475  0.003012  0.012448\n",
              "2019-11  0.036299  0.029749  0.030647 -0.000512 -0.000128\n",
              "2019-12  0.030183  0.028095  0.029891 -0.000696  0.069880"
            ]
          },
          "metadata": {
            "tags": []
          },
          "execution_count": 19
        }
      ]
    },
    {
      "cell_type": "code",
      "metadata": {
        "id": "6Luanlq2-4Bf",
        "colab_type": "code",
        "colab": {
          "base_uri": "https://localhost:8080/",
          "height": 283
        },
        "outputId": "84cec22d-0681-4e80-99c2-151ee26fe2f4"
      },
      "source": [
        "VAMI = 1000*(1+rors).cumprod()\n",
        "VAMI.plot()"
      ],
      "execution_count": 22,
      "outputs": [
        {
          "output_type": "execute_result",
          "data": {
            "text/plain": [
              "<matplotlib.axes._subplots.AxesSubplot at 0x7f6eb5c2bc18>"
            ]
          },
          "metadata": {
            "tags": []
          },
          "execution_count": 22
        },
        {
          "output_type": "display_data",
          "data": {
            "image/png": "[encoded data removed]",
            "text/plain": [
              "<Figure size 432x288 with 1 Axes>"
            ]
          },
          "metadata": {
            "tags": []
          }
        }
      ]
    },
    {
      "cell_type": "code",
      "metadata": {
        "id": "SLj0JDrO_vBZ",
        "colab_type": "code",
        "colab": {
          "base_uri": "https://localhost:8080/",
          "height": 283
        },
        "outputId": "7c8bf1ee-f050-491e-cfc4-92de4914f476"
      },
      "source": [
        "prev_peak = VAMI.cummax()\n",
        "prev_peak.plot()"
      ],
      "execution_count": 23,
      "outputs": [
        {
          "output_type": "execute_result",
          "data": {
            "text/plain": [
              "<matplotlib.axes._subplots.AxesSubplot at 0x7f6eb570fd68>"
            ]
          },
          "metadata": {
            "tags": []
          },
          "execution_count": 23
        },
        {
          "output_type": "display_data",
          "data": {
            "image/png": "[encoded data removed]",
            "text/plain": [
              "<Figure size 432x288 with 1 Axes>"
            ]
          },
          "metadata": {
            "tags": []
          }
        }
      ]
    },
    {
      "cell_type": "code",
      "metadata": {
        "id": "7GpSbUbk_6L1",
        "colab_type": "code",
        "colab": {
          "base_uri": "https://localhost:8080/",
          "height": 283
        },
        "outputId": "807a5538-c09d-431e-e594-575960e14f6d"
      },
      "source": [
        "Drawdown = (VAMI - prev_peak)/prev_peak\n",
        "Drawdown.plot()"
      ],
      "execution_count": 24,
      "outputs": [
        {
          "output_type": "execute_result",
          "data": {
            "text/plain": [
              "<matplotlib.axes._subplots.AxesSubplot at 0x7f6eb560ceb8>"
            ]
          },
          "metadata": {
            "tags": []
          },
          "execution_count": 24
        },
        {
          "output_type": "display_data",
          "data": {
            "image/png": "[encoded data removed]",
            "text/plain": [
              "<Figure size 432x288 with 1 Axes>"
            ]
          },
          "metadata": {
            "tags": []
          }
        }
      ]
    },
    {
      "cell_type": "code",
      "metadata": {
        "id": "iQRLFh15EbmS",
        "colab_type": "code",
        "colab": {
          "base_uri": "https://localhost:8080/",
          "height": 121
        },
        "outputId": "848b2d73-cf53-46fe-cbbe-a41d29706c5d"
      },
      "source": [
        "Drawdown.min()"
      ],
      "execution_count": 25,
      "outputs": [
        {
          "output_type": "execute_result",
          "data": {
            "text/plain": [
              "LrgCap   -0.509488\n",
              "MidCap   -0.496167\n",
              "SmCap    -0.521492\n",
              "Bonds    -0.038288\n",
              "Comdty   -0.808997\n",
              "dtype: float64"
            ]
          },
          "metadata": {
            "tags": []
          },
          "execution_count": 25
        }
      ]
    },
    {
      "cell_type": "code",
      "metadata": {
        "id": "PdirzUU5Ep9x",
        "colab_type": "code",
        "colab": {
          "base_uri": "https://localhost:8080/",
          "height": 121
        },
        "outputId": "2e690f79-9705-4d14-dcd9-d1f9bf899ecc"
      },
      "source": [
        "Drawdown[\"2017\":].idxmin()"
      ],
      "execution_count": 33,
      "outputs": [
        {
          "output_type": "execute_result",
          "data": {
            "text/plain": [
              "LrgCap    2018-12\n",
              "MidCap    2018-12\n",
              "SmCap     2018-12\n",
              "Bonds     2017-01\n",
              "Comdty    2017-06\n",
              "dtype: period[M]"
            ]
          },
          "metadata": {
            "tags": []
          },
          "execution_count": 33
        }
      ]
    },
    {
      "cell_type": "code",
      "metadata": {
        "id": "ekuYhRo-HATr",
        "colab_type": "code",
        "colab": {}
      },
      "source": [
        "def DD_Calc(monthly_returns):\n",
        "  VAMI = 1000*(1+monthly_returns).cumprod()\n",
        "  previous_peak = VAMI.cummax()\n",
        "  drawdowns = VAMI/previous_peak-1\n",
        "  return drawdowns.min()\n"
      ],
      "execution_count": 0,
      "outputs": []
    },
    {
      "cell_type": "code",
      "metadata": {
        "id": "T5D5OxzpIAeD",
        "colab_type": "code",
        "colab": {
          "base_uri": "https://localhost:8080/",
          "height": 121
        },
        "outputId": "bbc44b8b-f12f-49fa-a282-c477f7ebfabe"
      },
      "source": [
        "DD_Calc(rors[\"2015\":])"
      ],
      "execution_count": 49,
      "outputs": [
        {
          "output_type": "execute_result",
          "data": {
            "text/plain": [
              "LrgCap   -0.135198\n",
              "MidCap   -0.181835\n",
              "SmCap    -0.226377\n",
              "Bonds    -0.032796\n",
              "Comdty   -0.387904\n",
              "dtype: float64"
            ]
          },
          "metadata": {
            "tags": []
          },
          "execution_count": 49
        }
      ]
    },
    {
      "cell_type": "code",
      "metadata": {
        "id": "qkvoX6KDJxhA",
        "colab_type": "code",
        "colab": {}
      },
      "source": [
        "def fin_stats(monthly_returns):\n",
        "  annl_ror = (1+monthly_returns).prod()**(12/monthly_returns.count())-1\n",
        "  annl_vol = monthly_returns.std()*(12**0.5)\n",
        "  sharpe   = (annl_ror-0.03)/annl_vol\n",
        "  worst_dd = DD_Calc(monthly_returns)\n",
        "  calmar = annl_ror/worst_dd\n",
        "  return pd.DataFrame({\n",
        "      \"Ann_ROR\": annl_ror,\n",
        "      \"Ann_Vol\": annl_vol,\n",
        "      \"Sharpe_Ratio\": sharpe,\n",
        "      \"Worst_DrawDown\": worst_dd,\n",
        "      \"Calmar_Ratio\": calmar\n",
        "  })\n"
      ],
      "execution_count": 0,
      "outputs": []
    },
    {
      "cell_type": "code",
      "metadata": {
        "id": "DStgiCPALvie",
        "colab_type": "code",
        "colab": {
          "base_uri": "https://localhost:8080/",
          "height": 202
        },
        "outputId": "0f59c899-efb5-4e7b-c063-15a9ea2c5e39"
      },
      "source": [
        "fin_stats(rors[\"2010\":])"
      ],
      "execution_count": 55,
      "outputs": [
        {
          "output_type": "execute_result",
          "data": {
            "text/html": [
              "<div>\n",
              "<style scoped>\n",
              "    .dataframe tbody tr th:only-of-type {\n",
              "        vertical-align: middle;\n",
              "    }\n",
              "\n",
              "    .dataframe tbody tr th {\n",
              "        vertical-align: top;\n",
              "    }\n",
              "\n",
              "    .dataframe thead th {\n",
              "        text-align: right;\n",
              "    }\n",
              "</style>\n",
              "<table border=\"1\" class=\"dataframe\">\n",
              "  <thead>\n",
              "    <tr style=\"text-align: right;\">\n",
              "      <th></th>\n",
              "      <th>Ann_ROR</th>\n",
              "      <th>Ann_Vol</th>\n",
              "      <th>Sharpe_Ratio</th>\n",
              "      <th>Worst_DrawDown</th>\n",
              "      <th>Calmar Ratio</th>\n",
              "    </tr>\n",
              "  </thead>\n",
              "  <tbody>\n",
              "    <tr>\n",
              "      <th>LrgCap</th>\n",
              "      <td>0.136364</td>\n",
              "      <td>0.124050</td>\n",
              "      <td>0.857432</td>\n",
              "      <td>-0.162623</td>\n",
              "      <td>-0.838529</td>\n",
              "    </tr>\n",
              "    <tr>\n",
              "      <th>MidCap</th>\n",
              "      <td>0.125382</td>\n",
              "      <td>0.147828</td>\n",
              "      <td>0.645223</td>\n",
              "      <td>-0.225698</td>\n",
              "      <td>-0.555532</td>\n",
              "    </tr>\n",
              "    <tr>\n",
              "      <th>SmCap</th>\n",
              "      <td>0.130400</td>\n",
              "      <td>0.163983</td>\n",
              "      <td>0.612256</td>\n",
              "      <td>-0.226377</td>\n",
              "      <td>-0.576028</td>\n",
              "    </tr>\n",
              "    <tr>\n",
              "      <th>Bonds</th>\n",
              "      <td>0.038955</td>\n",
              "      <td>0.028996</td>\n",
              "      <td>0.308830</td>\n",
              "      <td>-0.036662</td>\n",
              "      <td>-1.062540</td>\n",
              "    </tr>\n",
              "    <tr>\n",
              "      <th>Comdty</th>\n",
              "      <td>-0.063882</td>\n",
              "      <td>0.187427</td>\n",
              "      <td>-0.500901</td>\n",
              "      <td>-0.649731</td>\n",
              "      <td>0.098321</td>\n",
              "    </tr>\n",
              "  </tbody>\n",
              "</table>\n",
              "</div>"
            ],
            "text/plain": [
              "         Ann_ROR   Ann_Vol  Sharpe_Ratio  Worst_DrawDown  Calmar Ratio\n",
              "LrgCap  0.136364  0.124050      0.857432       -0.162623     -0.838529\n",
              "MidCap  0.125382  0.147828      0.645223       -0.225698     -0.555532\n",
              "SmCap   0.130400  0.163983      0.612256       -0.226377     -0.576028\n",
              "Bonds   0.038955  0.028996      0.308830       -0.036662     -1.062540\n",
              "Comdty -0.063882  0.187427     -0.500901       -0.649731      0.098321"
            ]
          },
          "metadata": {
            "tags": []
          },
          "execution_count": 55
        }
      ]
    }
  ]
}
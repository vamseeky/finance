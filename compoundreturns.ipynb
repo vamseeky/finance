{
  "nbformat": 4,
  "nbformat_minor": 0,
  "metadata": {
    "colab": {
      "name": "compoundreturns.ipynb",
      "provenance": [],
      "authorship_tag": "ABX9TyOG7GDJlWfK5uJENmsXWzh7",
      "include_colab_link": true
    },
    "kernelspec": {
      "name": "python3",
      "display_name": "Python 3"
    }
  },
  "cells": [
    {
      "cell_type": "markdown",
      "metadata": {
        "id": "view-in-github",
        "colab_type": "text"
      },
      "source": [
        "<a href=\"https://colab.research.google.com/github/vamseeky/finance/blob/master/compoundreturns.ipynb\" target=\"_parent\"><img src=\"https://colab.research.google.com/assets/colab-badge.svg\" alt=\"Open In Colab\"/></a>"
      ]
    },
    {
      "cell_type": "code",
      "metadata": {
        "id": "ucCNt12vYh6-",
        "colab_type": "code",
        "colab": {}
      },
      "source": [
        "prices_spxt = [3769.44, 3821.6, 4278.66, 5212.76, 4984.22, 6553.57] #end of year index level of S&P500 total return index 2014 to 2019"
      ],
      "execution_count": 0,
      "outputs": []
    },
    {
      "cell_type": "code",
      "metadata": {
        "id": "5EzviLDoZ_n8",
        "colab_type": "code",
        "colab": {
          "base_uri": "https://localhost:8080/",
          "height": 35
        },
        "outputId": "77c50ac5-bb6a-4435-e9db-7c8b0296cad0"
      },
      "source": [
        "prices_spxt[1:] #shows the elements from index 1 (note python starts at index 0)"
      ],
      "execution_count": 11,
      "outputs": [
        {
          "output_type": "execute_result",
          "data": {
            "text/plain": [
              "[3821.6, 4278.66, 5212.76, 4984.22, 6553.57]"
            ]
          },
          "metadata": {
            "tags": []
          },
          "execution_count": 11
        }
      ]
    },
    {
      "cell_type": "code",
      "metadata": {
        "id": "hM33YP3jaFRd",
        "colab_type": "code",
        "colab": {
          "base_uri": "https://localhost:8080/",
          "height": 35
        },
        "outputId": "97c4bab7-145b-488b-e255-f83ea09ce703"
      },
      "source": [
        "prices_spxt[:-1] #shows elements before the previous one"
      ],
      "execution_count": 12,
      "outputs": [
        {
          "output_type": "execute_result",
          "data": {
            "text/plain": [
              "[3769.44, 3821.6, 4278.66, 5212.76, 4984.22]"
            ]
          },
          "metadata": {
            "tags": []
          },
          "execution_count": 12
        }
      ]
    },
    {
      "cell_type": "code",
      "metadata": {
        "id": "tFpz1cP8bOUh",
        "colab_type": "code",
        "colab": {
          "base_uri": "https://localhost:8080/",
          "height": 187
        },
        "outputId": "d0b633b0-1724-4968-8a57-ac84d458bf81"
      },
      "source": [
        "#prices_spxt[1:]/prices_spxt[:1]-1 #this gives an error because python cannot divide arrays .. need to use numpy"
      ],
      "execution_count": 62,
      "outputs": [
        {
          "output_type": "error",
          "ename": "TypeError",
          "evalue": "ignored",
          "traceback": [
            "\u001b[0;31m---------------------------------------------------------------------------\u001b[0m",
            "\u001b[0;31mTypeError\u001b[0m                                 Traceback (most recent call last)",
            "\u001b[0;32m<ipython-input-62-c1963bead2c1>\u001b[0m in \u001b[0;36m<module>\u001b[0;34m()\u001b[0m\n\u001b[0;32m----> 1\u001b[0;31m \u001b[0mprices_spxt\u001b[0m\u001b[0;34m[\u001b[0m\u001b[0;36m1\u001b[0m\u001b[0;34m:\u001b[0m\u001b[0;34m]\u001b[0m\u001b[0;34m/\u001b[0m\u001b[0mprices_spxt\u001b[0m\u001b[0;34m[\u001b[0m\u001b[0;34m:\u001b[0m\u001b[0;36m1\u001b[0m\u001b[0;34m]\u001b[0m\u001b[0;34m-\u001b[0m\u001b[0;36m1\u001b[0m \u001b[0;31m#this gives an error because python cannot divide arrays .. need to use numpy\u001b[0m\u001b[0;34m\u001b[0m\u001b[0;34m\u001b[0m\u001b[0m\n\u001b[0m",
            "\u001b[0;31mTypeError\u001b[0m: unsupported operand type(s) for /: 'list' and 'list'"
          ]
        }
      ]
    },
    {
      "cell_type": "markdown",
      "metadata": {
        "id": "F0cqQyKMfpt8",
        "colab_type": "text"
      },
      "source": [
        "Using numpy can solve the problem of array operations"
      ]
    },
    {
      "cell_type": "code",
      "metadata": {
        "id": "wyiZ1hs2bgRK",
        "colab_type": "code",
        "colab": {
          "base_uri": "https://localhost:8080/",
          "height": 35
        },
        "outputId": "2053c1b5-1f5e-44b3-e965-022ba6117df1"
      },
      "source": [
        "import numpy as np\n",
        "prices_spxt_a = np.array(prices_spxt) #we are now converting python array into numpy array\n",
        "prices_spxt_a"
      ],
      "execution_count": 14,
      "outputs": [
        {
          "output_type": "execute_result",
          "data": {
            "text/plain": [
              "array([3769.44, 3821.6 , 4278.66, 5212.76, 4984.22, 6553.57])"
            ]
          },
          "metadata": {
            "tags": []
          },
          "execution_count": 14
        }
      ]
    },
    {
      "cell_type": "code",
      "metadata": {
        "id": "qQJ_XDjTb3Dm",
        "colab_type": "code",
        "colab": {
          "base_uri": "https://localhost:8080/",
          "height": 35
        },
        "outputId": "01337f90-d05a-4a47-840f-e7cf7a9b64a4"
      },
      "source": [
        "prices_spxt_a[1:]/prices_spxt_a[:-1]-1 #now we should be able to see the yearly total returns of S&P500"
      ],
      "execution_count": 15,
      "outputs": [
        {
          "output_type": "execute_result",
          "data": {
            "text/plain": [
              "array([ 0.0138376 ,  0.11959912,  0.21831601, -0.04384242,  0.31486371])"
            ]
          },
          "metadata": {
            "tags": []
          },
          "execution_count": 15
        }
      ]
    },
    {
      "cell_type": "markdown",
      "metadata": {
        "id": "YmzpV4mkcN6f",
        "colab_type": "text"
      },
      "source": [
        "Using Pandas can help expand the capablities further"
      ]
    },
    {
      "cell_type": "code",
      "metadata": {
        "id": "3Mx3VpnLcRjJ",
        "colab_type": "code",
        "colab": {
          "base_uri": "https://localhost:8080/",
          "height": 233
        },
        "outputId": "7e6d10d7-d6f2-4a2b-a498-811590f6f1bd"
      },
      "source": [
        "import pandas as pd\n",
        "prices_spxt_df = pd.DataFrame(prices_spxt)\n",
        "prices_spxt_df"
      ],
      "execution_count": 16,
      "outputs": [
        {
          "output_type": "execute_result",
          "data": {
            "text/html": [
              "<div>\n",
              "<style scoped>\n",
              "    .dataframe tbody tr th:only-of-type {\n",
              "        vertical-align: middle;\n",
              "    }\n",
              "\n",
              "    .dataframe tbody tr th {\n",
              "        vertical-align: top;\n",
              "    }\n",
              "\n",
              "    .dataframe thead th {\n",
              "        text-align: right;\n",
              "    }\n",
              "</style>\n",
              "<table border=\"1\" class=\"dataframe\">\n",
              "  <thead>\n",
              "    <tr style=\"text-align: right;\">\n",
              "      <th></th>\n",
              "      <th>0</th>\n",
              "    </tr>\n",
              "  </thead>\n",
              "  <tbody>\n",
              "    <tr>\n",
              "      <th>0</th>\n",
              "      <td>3769.44</td>\n",
              "    </tr>\n",
              "    <tr>\n",
              "      <th>1</th>\n",
              "      <td>3821.60</td>\n",
              "    </tr>\n",
              "    <tr>\n",
              "      <th>2</th>\n",
              "      <td>4278.66</td>\n",
              "    </tr>\n",
              "    <tr>\n",
              "      <th>3</th>\n",
              "      <td>5212.76</td>\n",
              "    </tr>\n",
              "    <tr>\n",
              "      <th>4</th>\n",
              "      <td>4984.22</td>\n",
              "    </tr>\n",
              "    <tr>\n",
              "      <th>5</th>\n",
              "      <td>6553.57</td>\n",
              "    </tr>\n",
              "  </tbody>\n",
              "</table>\n",
              "</div>"
            ],
            "text/plain": [
              "         0\n",
              "0  3769.44\n",
              "1  3821.60\n",
              "2  4278.66\n",
              "3  5212.76\n",
              "4  4984.22\n",
              "5  6553.57"
            ]
          },
          "metadata": {
            "tags": []
          },
          "execution_count": 16
        }
      ]
    },
    {
      "cell_type": "code",
      "metadata": {
        "id": "PaBCcMVifPK3",
        "colab_type": "code",
        "colab": {
          "base_uri": "https://localhost:8080/",
          "height": 233
        },
        "outputId": "fc6ae63c-af5d-49f3-b46a-d0dd7d476076"
      },
      "source": [
        "prices_spxt_df.pct_change() #using built-in % change function in pandas"
      ],
      "execution_count": 17,
      "outputs": [
        {
          "output_type": "execute_result",
          "data": {
            "text/html": [
              "<div>\n",
              "<style scoped>\n",
              "    .dataframe tbody tr th:only-of-type {\n",
              "        vertical-align: middle;\n",
              "    }\n",
              "\n",
              "    .dataframe tbody tr th {\n",
              "        vertical-align: top;\n",
              "    }\n",
              "\n",
              "    .dataframe thead th {\n",
              "        text-align: right;\n",
              "    }\n",
              "</style>\n",
              "<table border=\"1\" class=\"dataframe\">\n",
              "  <thead>\n",
              "    <tr style=\"text-align: right;\">\n",
              "      <th></th>\n",
              "      <th>0</th>\n",
              "    </tr>\n",
              "  </thead>\n",
              "  <tbody>\n",
              "    <tr>\n",
              "      <th>0</th>\n",
              "      <td>NaN</td>\n",
              "    </tr>\n",
              "    <tr>\n",
              "      <th>1</th>\n",
              "      <td>0.013838</td>\n",
              "    </tr>\n",
              "    <tr>\n",
              "      <th>2</th>\n",
              "      <td>0.119599</td>\n",
              "    </tr>\n",
              "    <tr>\n",
              "      <th>3</th>\n",
              "      <td>0.218316</td>\n",
              "    </tr>\n",
              "    <tr>\n",
              "      <th>4</th>\n",
              "      <td>-0.043842</td>\n",
              "    </tr>\n",
              "    <tr>\n",
              "      <th>5</th>\n",
              "      <td>0.314864</td>\n",
              "    </tr>\n",
              "  </tbody>\n",
              "</table>\n",
              "</div>"
            ],
            "text/plain": [
              "          0\n",
              "0       NaN\n",
              "1  0.013838\n",
              "2  0.119599\n",
              "3  0.218316\n",
              "4 -0.043842\n",
              "5  0.314864"
            ]
          },
          "metadata": {
            "tags": []
          },
          "execution_count": 17
        }
      ]
    },
    {
      "cell_type": "code",
      "metadata": {
        "id": "RrKj45v2daAP",
        "colab_type": "code",
        "colab": {
          "base_uri": "https://localhost:8080/",
          "height": 104
        },
        "outputId": "a678d4b0-cd8c-45c9-fe67-098ef9efc181"
      },
      "source": [
        "prices_spxt_df.iloc[1:].values/prices_spxt_df.iloc[:-1].values-1 #using iloc and values to calculate "
      ],
      "execution_count": 18,
      "outputs": [
        {
          "output_type": "execute_result",
          "data": {
            "text/plain": [
              "array([[ 0.0138376 ],\n",
              "       [ 0.11959912],\n",
              "       [ 0.21831601],\n",
              "       [-0.04384242],\n",
              "       [ 0.31486371]])"
            ]
          },
          "metadata": {
            "tags": []
          },
          "execution_count": 18
        }
      ]
    },
    {
      "cell_type": "code",
      "metadata": {
        "id": "Vf1aDUAveqJm",
        "colab_type": "code",
        "colab": {
          "base_uri": "https://localhost:8080/",
          "height": 233
        },
        "outputId": "fcafffaf-0a57-4485-bd23-7f5a509329da"
      },
      "source": [
        "prices_spxt_df/prices_spxt_df.shift(1)-1 #using the shift() function"
      ],
      "execution_count": 19,
      "outputs": [
        {
          "output_type": "execute_result",
          "data": {
            "text/html": [
              "<div>\n",
              "<style scoped>\n",
              "    .dataframe tbody tr th:only-of-type {\n",
              "        vertical-align: middle;\n",
              "    }\n",
              "\n",
              "    .dataframe tbody tr th {\n",
              "        vertical-align: top;\n",
              "    }\n",
              "\n",
              "    .dataframe thead th {\n",
              "        text-align: right;\n",
              "    }\n",
              "</style>\n",
              "<table border=\"1\" class=\"dataframe\">\n",
              "  <thead>\n",
              "    <tr style=\"text-align: right;\">\n",
              "      <th></th>\n",
              "      <th>0</th>\n",
              "    </tr>\n",
              "  </thead>\n",
              "  <tbody>\n",
              "    <tr>\n",
              "      <th>0</th>\n",
              "      <td>NaN</td>\n",
              "    </tr>\n",
              "    <tr>\n",
              "      <th>1</th>\n",
              "      <td>0.013838</td>\n",
              "    </tr>\n",
              "    <tr>\n",
              "      <th>2</th>\n",
              "      <td>0.119599</td>\n",
              "    </tr>\n",
              "    <tr>\n",
              "      <th>3</th>\n",
              "      <td>0.218316</td>\n",
              "    </tr>\n",
              "    <tr>\n",
              "      <th>4</th>\n",
              "      <td>-0.043842</td>\n",
              "    </tr>\n",
              "    <tr>\n",
              "      <th>5</th>\n",
              "      <td>0.314864</td>\n",
              "    </tr>\n",
              "  </tbody>\n",
              "</table>\n",
              "</div>"
            ],
            "text/plain": [
              "          0\n",
              "0       NaN\n",
              "1  0.013838\n",
              "2  0.119599\n",
              "3  0.218316\n",
              "4 -0.043842\n",
              "5  0.314864"
            ]
          },
          "metadata": {
            "tags": []
          },
          "execution_count": 19
        }
      ]
    },
    {
      "cell_type": "markdown",
      "metadata": {
        "id": "X2ccxusRu81G",
        "colab_type": "text"
      },
      "source": [
        "Real World Exercise"
      ]
    },
    {
      "cell_type": "code",
      "metadata": {
        "id": "ls6vFhOrRt0e",
        "colab_type": "code",
        "colab": {}
      },
      "source": [
        "from google.colab import drive\n",
        "drive.mount('/content/drive')"
      ],
      "execution_count": 0,
      "outputs": []
    },
    {
      "cell_type": "code",
      "metadata": {
        "id": "E5NfRCbLis9b",
        "colab_type": "code",
        "colab": {
          "base_uri": "https://localhost:8080/",
          "height": 446
        },
        "outputId": "f52e0fc5-6492-4075-98cd-3be81f0a08da"
      },
      "source": [
        "prices_spxt_bbg = pd.read_csv('SPXTreturns.csv') #import csv file\n",
        "prices_spxt_bbg = prices_spxt_bbg.set_index('Date') #reset the index value to first column using header\n",
        "prices_spxt_bbg"
      ],
      "execution_count": 37,
      "outputs": [
        {
          "output_type": "execute_result",
          "data": {
            "text/html": [
              "<div>\n",
              "<style scoped>\n",
              "    .dataframe tbody tr th:only-of-type {\n",
              "        vertical-align: middle;\n",
              "    }\n",
              "\n",
              "    .dataframe tbody tr th {\n",
              "        vertical-align: top;\n",
              "    }\n",
              "\n",
              "    .dataframe thead th {\n",
              "        text-align: right;\n",
              "    }\n",
              "</style>\n",
              "<table border=\"1\" class=\"dataframe\">\n",
              "  <thead>\n",
              "    <tr style=\"text-align: right;\">\n",
              "      <th></th>\n",
              "      <th>Index</th>\n",
              "    </tr>\n",
              "    <tr>\n",
              "      <th>Date</th>\n",
              "      <th></th>\n",
              "    </tr>\n",
              "  </thead>\n",
              "  <tbody>\n",
              "    <tr>\n",
              "      <th>12/29/89</th>\n",
              "      <td>379.41</td>\n",
              "    </tr>\n",
              "    <tr>\n",
              "      <th>1/31/90</th>\n",
              "      <td>353.94</td>\n",
              "    </tr>\n",
              "    <tr>\n",
              "      <th>2/28/90</th>\n",
              "      <td>358.50</td>\n",
              "    </tr>\n",
              "    <tr>\n",
              "      <th>3/30/90</th>\n",
              "      <td>368.00</td>\n",
              "    </tr>\n",
              "    <tr>\n",
              "      <th>4/30/90</th>\n",
              "      <td>358.81</td>\n",
              "    </tr>\n",
              "    <tr>\n",
              "      <th>...</th>\n",
              "      <td>...</td>\n",
              "    </tr>\n",
              "    <tr>\n",
              "      <th>8/30/19</th>\n",
              "      <td>5898.23</td>\n",
              "    </tr>\n",
              "    <tr>\n",
              "      <th>9/30/19</th>\n",
              "      <td>6008.59</td>\n",
              "    </tr>\n",
              "    <tr>\n",
              "      <th>10/31/19</th>\n",
              "      <td>6138.73</td>\n",
              "    </tr>\n",
              "    <tr>\n",
              "      <th>11/29/19</th>\n",
              "      <td>6361.56</td>\n",
              "    </tr>\n",
              "    <tr>\n",
              "      <th>12/31/19</th>\n",
              "      <td>6553.57</td>\n",
              "    </tr>\n",
              "  </tbody>\n",
              "</table>\n",
              "<p>361 rows × 1 columns</p>\n",
              "</div>"
            ],
            "text/plain": [
              "            Index\n",
              "Date             \n",
              "12/29/89   379.41\n",
              "1/31/90    353.94\n",
              "2/28/90    358.50\n",
              "3/30/90    368.00\n",
              "4/30/90    358.81\n",
              "...           ...\n",
              "8/30/19   5898.23\n",
              "9/30/19   6008.59\n",
              "10/31/19  6138.73\n",
              "11/29/19  6361.56\n",
              "12/31/19  6553.57\n",
              "\n",
              "[361 rows x 1 columns]"
            ]
          },
          "metadata": {
            "tags": []
          },
          "execution_count": 37
        }
      ]
    },
    {
      "cell_type": "code",
      "metadata": {
        "id": "TVX4cM7UdykZ",
        "colab_type": "code",
        "colab": {
          "base_uri": "https://localhost:8080/",
          "height": 297
        },
        "outputId": "7418c679-d205-4d67-f594-b4a5a49e5873"
      },
      "source": [
        "prices_spxt_bbg.plot() #plotting the data for visualization"
      ],
      "execution_count": 38,
      "outputs": [
        {
          "output_type": "execute_result",
          "data": {
            "text/plain": [
              "<matplotlib.axes._subplots.AxesSubplot at 0x7fa2a396cd68>"
            ]
          },
          "metadata": {
            "tags": []
          },
          "execution_count": 38
        },
        {
          "output_type": "display_data",
          "data": {
            "image/png": "[encoded data removed]",
            "text/plain": [
              "<Figure size 432x288 with 1 Axes>"
            ]
          },
          "metadata": {
            "tags": []
          }
        }
      ]
    },
    {
      "cell_type": "code",
      "metadata": {
        "id": "RarrXyFtn816",
        "colab_type": "code",
        "colab": {
          "base_uri": "https://localhost:8080/",
          "height": 446
        },
        "outputId": "2c4fa1c8-3740-41d4-c5eb-f18935a03f6c"
      },
      "source": [
        "monthly_rors = prices_spxt_bbg.pct_change() #calculating monthly returns\n",
        "monthly_rors"
      ],
      "execution_count": 41,
      "outputs": [
        {
          "output_type": "execute_result",
          "data": {
            "text/html": [
              "<div>\n",
              "<style scoped>\n",
              "    .dataframe tbody tr th:only-of-type {\n",
              "        vertical-align: middle;\n",
              "    }\n",
              "\n",
              "    .dataframe tbody tr th {\n",
              "        vertical-align: top;\n",
              "    }\n",
              "\n",
              "    .dataframe thead th {\n",
              "        text-align: right;\n",
              "    }\n",
              "</style>\n",
              "<table border=\"1\" class=\"dataframe\">\n",
              "  <thead>\n",
              "    <tr style=\"text-align: right;\">\n",
              "      <th></th>\n",
              "      <th>Index</th>\n",
              "    </tr>\n",
              "    <tr>\n",
              "      <th>Date</th>\n",
              "      <th></th>\n",
              "    </tr>\n",
              "  </thead>\n",
              "  <tbody>\n",
              "    <tr>\n",
              "      <th>12/29/89</th>\n",
              "      <td>NaN</td>\n",
              "    </tr>\n",
              "    <tr>\n",
              "      <th>1/31/90</th>\n",
              "      <td>-0.067131</td>\n",
              "    </tr>\n",
              "    <tr>\n",
              "      <th>2/28/90</th>\n",
              "      <td>0.012884</td>\n",
              "    </tr>\n",
              "    <tr>\n",
              "      <th>3/30/90</th>\n",
              "      <td>0.026499</td>\n",
              "    </tr>\n",
              "    <tr>\n",
              "      <th>4/30/90</th>\n",
              "      <td>-0.024973</td>\n",
              "    </tr>\n",
              "    <tr>\n",
              "      <th>...</th>\n",
              "      <td>...</td>\n",
              "    </tr>\n",
              "    <tr>\n",
              "      <th>8/30/19</th>\n",
              "      <td>-0.015841</td>\n",
              "    </tr>\n",
              "    <tr>\n",
              "      <th>9/30/19</th>\n",
              "      <td>0.018711</td>\n",
              "    </tr>\n",
              "    <tr>\n",
              "      <th>10/31/19</th>\n",
              "      <td>0.021659</td>\n",
              "    </tr>\n",
              "    <tr>\n",
              "      <th>11/29/19</th>\n",
              "      <td>0.036299</td>\n",
              "    </tr>\n",
              "    <tr>\n",
              "      <th>12/31/19</th>\n",
              "      <td>0.030183</td>\n",
              "    </tr>\n",
              "  </tbody>\n",
              "</table>\n",
              "<p>361 rows × 1 columns</p>\n",
              "</div>"
            ],
            "text/plain": [
              "             Index\n",
              "Date              \n",
              "12/29/89       NaN\n",
              "1/31/90  -0.067131\n",
              "2/28/90   0.012884\n",
              "3/30/90   0.026499\n",
              "4/30/90  -0.024973\n",
              "...            ...\n",
              "8/30/19  -0.015841\n",
              "9/30/19   0.018711\n",
              "10/31/19  0.021659\n",
              "11/29/19  0.036299\n",
              "12/31/19  0.030183\n",
              "\n",
              "[361 rows x 1 columns]"
            ]
          },
          "metadata": {
            "tags": []
          },
          "execution_count": 41
        }
      ]
    },
    {
      "cell_type": "code",
      "metadata": {
        "id": "JEe4eoIhrG7a",
        "colab_type": "code",
        "colab": {
          "base_uri": "https://localhost:8080/",
          "height": 294
        },
        "outputId": "5f19b390-aff2-44f5-a5e4-08294d8b5d14"
      },
      "source": [
        "monthly_rors.describe() #descriptive statistics"
      ],
      "execution_count": 48,
      "outputs": [
        {
          "output_type": "execute_result",
          "data": {
            "text/html": [
              "<div>\n",
              "<style scoped>\n",
              "    .dataframe tbody tr th:only-of-type {\n",
              "        vertical-align: middle;\n",
              "    }\n",
              "\n",
              "    .dataframe tbody tr th {\n",
              "        vertical-align: top;\n",
              "    }\n",
              "\n",
              "    .dataframe thead th {\n",
              "        text-align: right;\n",
              "    }\n",
              "</style>\n",
              "<table border=\"1\" class=\"dataframe\">\n",
              "  <thead>\n",
              "    <tr style=\"text-align: right;\">\n",
              "      <th></th>\n",
              "      <th>Index</th>\n",
              "    </tr>\n",
              "  </thead>\n",
              "  <tbody>\n",
              "    <tr>\n",
              "      <th>count</th>\n",
              "      <td>360.000000</td>\n",
              "    </tr>\n",
              "    <tr>\n",
              "      <th>mean</th>\n",
              "      <td>0.008795</td>\n",
              "    </tr>\n",
              "    <tr>\n",
              "      <th>std</th>\n",
              "      <td>0.041040</td>\n",
              "    </tr>\n",
              "    <tr>\n",
              "      <th>min</th>\n",
              "      <td>-0.167951</td>\n",
              "    </tr>\n",
              "    <tr>\n",
              "      <th>25%</th>\n",
              "      <td>-0.015717</td>\n",
              "    </tr>\n",
              "    <tr>\n",
              "      <th>50%</th>\n",
              "      <td>0.012946</td>\n",
              "    </tr>\n",
              "    <tr>\n",
              "      <th>75%</th>\n",
              "      <td>0.034101</td>\n",
              "    </tr>\n",
              "    <tr>\n",
              "      <th>max</th>\n",
              "      <td>0.114356</td>\n",
              "    </tr>\n",
              "  </tbody>\n",
              "</table>\n",
              "</div>"
            ],
            "text/plain": [
              "            Index\n",
              "count  360.000000\n",
              "mean     0.008795\n",
              "std      0.041040\n",
              "min     -0.167951\n",
              "25%     -0.015717\n",
              "50%      0.012946\n",
              "75%      0.034101\n",
              "max      0.114356"
            ]
          },
          "metadata": {
            "tags": []
          },
          "execution_count": 48
        }
      ]
    },
    {
      "cell_type": "code",
      "metadata": {
        "id": "cHcJi7lkrrot",
        "colab_type": "code",
        "colab": {
          "base_uri": "https://localhost:8080/",
          "height": 52
        },
        "outputId": "90d68e1d-3ff5-4c0d-cf05-be05d8728b19"
      },
      "source": [
        "np.prod(monthly_rors+1)-1 #compounding the returns using numpy"
      ],
      "execution_count": 50,
      "outputs": [
        {
          "output_type": "execute_result",
          "data": {
            "text/plain": [
              "Index    16.273056\n",
              "dtype: float64"
            ]
          },
          "metadata": {
            "tags": []
          },
          "execution_count": 50
        }
      ]
    },
    {
      "cell_type": "code",
      "metadata": {
        "id": "zeTHIoZfsVGZ",
        "colab_type": "code",
        "colab": {
          "base_uri": "https://localhost:8080/",
          "height": 52
        },
        "outputId": "1a3df772-2314-4249-9ee8-f17fa3fb0b49"
      },
      "source": [
        "cum_ror = (monthly_rors+1).prod()-1 #componding using pandas\n",
        "cum_ror"
      ],
      "execution_count": 55,
      "outputs": [
        {
          "output_type": "execute_result",
          "data": {
            "text/plain": [
              "Index    16.273056\n",
              "dtype: float64"
            ]
          },
          "metadata": {
            "tags": []
          },
          "execution_count": 55
        }
      ]
    },
    {
      "cell_type": "code",
      "metadata": {
        "id": "iwBPheCtsboO",
        "colab_type": "code",
        "colab": {
          "base_uri": "https://localhost:8080/",
          "height": 52
        },
        "outputId": "27b3a3ed-5625-4678-e3ac-7c5d9a6c14b9"
      },
      "source": [
        "ann_ror = (cum_ror+1)**(12/(prices_spxt_bbg.count()-1))-1 #annualizing the returns\n",
        "ann_ror"
      ],
      "execution_count": 61,
      "outputs": [
        {
          "output_type": "execute_result",
          "data": {
            "text/plain": [
              "Index    0.099628\n",
              "dtype: float64"
            ]
          },
          "metadata": {
            "tags": []
          },
          "execution_count": 61
        }
      ]
    }
  ]
}
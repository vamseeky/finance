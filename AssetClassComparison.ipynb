{
  "nbformat": 4,
  "nbformat_minor": 0,
  "metadata": {
    "colab": {
      "name": "AssetClassComparison.ipynb",
      "provenance": [],
      "authorship_tag": "ABX9TyOnjhAYrEbV7tq7G2d1iRew",
      "include_colab_link": true
    },
    "kernelspec": {
      "name": "python3",
      "display_name": "Python 3"
    }
  },
  "cells": [
    {
      "cell_type": "markdown",
      "metadata": {
        "id": "view-in-github",
        "colab_type": "text"
      },
      "source": [
        "<a href=\"https://colab.research.google.com/github/vamseeky/finance/blob/master/AssetClassComparison.ipynb\" target=\"_parent\"><img src=\"https://colab.research.google.com/assets/colab-badge.svg\" alt=\"Open In Colab\"/></a>"
      ]
    },
    {
      "cell_type": "code",
      "metadata": {
        "id": "YHZ9JXhrxUKt",
        "colab_type": "code",
        "colab": {}
      },
      "source": [
        ""
      ],
      "execution_count": 0,
      "outputs": []
    },
    {
      "cell_type": "code",
      "metadata": {
        "id": "K_4KCkFJxWZx",
        "colab_type": "code",
        "colab": {
          "base_uri": "https://localhost:8080/",
          "height": 55
        },
        "outputId": "2d781b95-c5bd-4886-c96e-f8d49cb1d516"
      },
      "source": [
        "from google.colab import drive\n",
        "drive.mount('/content/drive')"
      ],
      "execution_count": 5,
      "outputs": [
        {
          "output_type": "stream",
          "text": [
            "Drive already mounted at /content/drive; to attempt to forcibly remount, call drive.mount(\"/content/drive\", force_remount=True).\n"
          ],
          "name": "stdout"
        }
      ]
    },
    {
      "cell_type": "code",
      "metadata": {
        "id": "1vuI9rEexfLn",
        "colab_type": "code",
        "colab": {
          "base_uri": "https://localhost:8080/",
          "height": 202
        },
        "outputId": "b1a89c2f-a3e2-4e08-950c-1c1838d7ea8a"
      },
      "source": [
        "import pandas as pd\n",
        "import numpy as np\n",
        "prices = pd.read_csv('index_prices.csv',index_col=0)\n",
        "prices.head()\n"
      ],
      "execution_count": 42,
      "outputs": [
        {
          "output_type": "execute_result",
          "data": {
            "text/html": [
              "<div>\n",
              "<style scoped>\n",
              "    .dataframe tbody tr th:only-of-type {\n",
              "        vertical-align: middle;\n",
              "    }\n",
              "\n",
              "    .dataframe tbody tr th {\n",
              "        vertical-align: top;\n",
              "    }\n",
              "\n",
              "    .dataframe thead th {\n",
              "        text-align: right;\n",
              "    }\n",
              "</style>\n",
              "<table border=\"1\" class=\"dataframe\">\n",
              "  <thead>\n",
              "    <tr style=\"text-align: right;\">\n",
              "      <th></th>\n",
              "      <th>SPXT Index</th>\n",
              "      <th>SPTRMDCP Index</th>\n",
              "      <th>SPTRSMCP Index</th>\n",
              "      <th>LBUSTRUU Index</th>\n",
              "      <th>SPGSCITR Index</th>\n",
              "    </tr>\n",
              "  </thead>\n",
              "  <tbody>\n",
              "    <tr>\n",
              "      <th>1/31/94</th>\n",
              "      <td>587.52</td>\n",
              "      <td>193.50</td>\n",
              "      <td>102.358</td>\n",
              "      <td>599.77</td>\n",
              "      <td>2269.05</td>\n",
              "    </tr>\n",
              "    <tr>\n",
              "      <th>2/28/94</th>\n",
              "      <td>571.57</td>\n",
              "      <td>190.75</td>\n",
              "      <td>102.060</td>\n",
              "      <td>589.35</td>\n",
              "      <td>2219.72</td>\n",
              "    </tr>\n",
              "    <tr>\n",
              "      <th>3/31/94</th>\n",
              "      <td>546.65</td>\n",
              "      <td>181.92</td>\n",
              "      <td>94.731</td>\n",
              "      <td>574.82</td>\n",
              "      <td>2193.29</td>\n",
              "    </tr>\n",
              "    <tr>\n",
              "      <th>4/29/94</th>\n",
              "      <td>553.66</td>\n",
              "      <td>183.27</td>\n",
              "      <td>96.155</td>\n",
              "      <td>570.23</td>\n",
              "      <td>2250.73</td>\n",
              "    </tr>\n",
              "    <tr>\n",
              "      <th>5/31/94</th>\n",
              "      <td>562.75</td>\n",
              "      <td>181.53</td>\n",
              "      <td>94.255</td>\n",
              "      <td>570.15</td>\n",
              "      <td>2284.22</td>\n",
              "    </tr>\n",
              "  </tbody>\n",
              "</table>\n",
              "</div>"
            ],
            "text/plain": [
              "         SPXT Index  SPTRMDCP Index  ...  LBUSTRUU Index  SPGSCITR Index\n",
              "1/31/94      587.52          193.50  ...          599.77         2269.05\n",
              "2/28/94      571.57          190.75  ...          589.35         2219.72\n",
              "3/31/94      546.65          181.92  ...          574.82         2193.29\n",
              "4/29/94      553.66          183.27  ...          570.23         2250.73\n",
              "5/31/94      562.75          181.53  ...          570.15         2284.22\n",
              "\n",
              "[5 rows x 5 columns]"
            ]
          },
          "metadata": {
            "tags": []
          },
          "execution_count": 42
        }
      ]
    },
    {
      "cell_type": "code",
      "metadata": {
        "id": "Ct-pf3hJ3uPl",
        "colab_type": "code",
        "colab": {
          "base_uri": "https://localhost:8080/",
          "height": 202
        },
        "outputId": "15243da2-fe84-4c03-a800-d285905a2e2f"
      },
      "source": [
        "monthly_rors = prices.pct_change()\n",
        "monthly_rors.head()"
      ],
      "execution_count": 28,
      "outputs": [
        {
          "output_type": "execute_result",
          "data": {
            "text/html": [
              "<div>\n",
              "<style scoped>\n",
              "    .dataframe tbody tr th:only-of-type {\n",
              "        vertical-align: middle;\n",
              "    }\n",
              "\n",
              "    .dataframe tbody tr th {\n",
              "        vertical-align: top;\n",
              "    }\n",
              "\n",
              "    .dataframe thead th {\n",
              "        text-align: right;\n",
              "    }\n",
              "</style>\n",
              "<table border=\"1\" class=\"dataframe\">\n",
              "  <thead>\n",
              "    <tr style=\"text-align: right;\">\n",
              "      <th></th>\n",
              "      <th>SPXT Index</th>\n",
              "      <th>SPTRMDCP Index</th>\n",
              "      <th>SPTRSMCP Index</th>\n",
              "      <th>LBUSTRUU Index</th>\n",
              "      <th>SPGSCITR Index</th>\n",
              "    </tr>\n",
              "  </thead>\n",
              "  <tbody>\n",
              "    <tr>\n",
              "      <th>1/31/94</th>\n",
              "      <td>NaN</td>\n",
              "      <td>NaN</td>\n",
              "      <td>NaN</td>\n",
              "      <td>NaN</td>\n",
              "      <td>NaN</td>\n",
              "    </tr>\n",
              "    <tr>\n",
              "      <th>2/28/94</th>\n",
              "      <td>-0.027148</td>\n",
              "      <td>-0.014212</td>\n",
              "      <td>-0.002911</td>\n",
              "      <td>-0.017373</td>\n",
              "      <td>-0.021740</td>\n",
              "    </tr>\n",
              "    <tr>\n",
              "      <th>3/31/94</th>\n",
              "      <td>-0.043599</td>\n",
              "      <td>-0.046291</td>\n",
              "      <td>-0.071811</td>\n",
              "      <td>-0.024654</td>\n",
              "      <td>-0.011907</td>\n",
              "    </tr>\n",
              "    <tr>\n",
              "      <th>4/29/94</th>\n",
              "      <td>0.012824</td>\n",
              "      <td>0.007421</td>\n",
              "      <td>0.015032</td>\n",
              "      <td>-0.007985</td>\n",
              "      <td>0.026189</td>\n",
              "    </tr>\n",
              "    <tr>\n",
              "      <th>5/31/94</th>\n",
              "      <td>0.016418</td>\n",
              "      <td>-0.009494</td>\n",
              "      <td>-0.019760</td>\n",
              "      <td>-0.000140</td>\n",
              "      <td>0.014880</td>\n",
              "    </tr>\n",
              "  </tbody>\n",
              "</table>\n",
              "</div>"
            ],
            "text/plain": [
              "         SPXT Index  SPTRMDCP Index  ...  LBUSTRUU Index  SPGSCITR Index\n",
              "1/31/94         NaN             NaN  ...             NaN             NaN\n",
              "2/28/94   -0.027148       -0.014212  ...       -0.017373       -0.021740\n",
              "3/31/94   -0.043599       -0.046291  ...       -0.024654       -0.011907\n",
              "4/29/94    0.012824        0.007421  ...       -0.007985        0.026189\n",
              "5/31/94    0.016418       -0.009494  ...       -0.000140        0.014880\n",
              "\n",
              "[5 rows x 5 columns]"
            ]
          },
          "metadata": {
            "tags": []
          },
          "execution_count": 28
        }
      ]
    },
    {
      "cell_type": "code",
      "metadata": {
        "id": "D0qog3ov32lb",
        "colab_type": "code",
        "colab": {
          "base_uri": "https://localhost:8080/",
          "height": 294
        },
        "outputId": "95c4d1b6-0c11-4052-d81d-6fb9ae1dfaea"
      },
      "source": [
        "monthly_rors.describe()"
      ],
      "execution_count": 29,
      "outputs": [
        {
          "output_type": "execute_result",
          "data": {
            "text/html": [
              "<div>\n",
              "<style scoped>\n",
              "    .dataframe tbody tr th:only-of-type {\n",
              "        vertical-align: middle;\n",
              "    }\n",
              "\n",
              "    .dataframe tbody tr th {\n",
              "        vertical-align: top;\n",
              "    }\n",
              "\n",
              "    .dataframe thead th {\n",
              "        text-align: right;\n",
              "    }\n",
              "</style>\n",
              "<table border=\"1\" class=\"dataframe\">\n",
              "  <thead>\n",
              "    <tr style=\"text-align: right;\">\n",
              "      <th></th>\n",
              "      <th>SPXT Index</th>\n",
              "      <th>SPTRMDCP Index</th>\n",
              "      <th>SPTRSMCP Index</th>\n",
              "      <th>LBUSTRUU Index</th>\n",
              "      <th>SPGSCITR Index</th>\n",
              "    </tr>\n",
              "  </thead>\n",
              "  <tbody>\n",
              "    <tr>\n",
              "      <th>count</th>\n",
              "      <td>312.000000</td>\n",
              "      <td>312.000000</td>\n",
              "      <td>312.000000</td>\n",
              "      <td>312.000000</td>\n",
              "      <td>312.000000</td>\n",
              "    </tr>\n",
              "    <tr>\n",
              "      <th>mean</th>\n",
              "      <td>0.008690</td>\n",
              "      <td>0.010144</td>\n",
              "      <td>0.009644</td>\n",
              "      <td>0.004319</td>\n",
              "      <td>0.001994</td>\n",
              "    </tr>\n",
              "    <tr>\n",
              "      <th>std</th>\n",
              "      <td>0.041585</td>\n",
              "      <td>0.048209</td>\n",
              "      <td>0.052308</td>\n",
              "      <td>0.010228</td>\n",
              "      <td>0.061252</td>\n",
              "    </tr>\n",
              "    <tr>\n",
              "      <th>min</th>\n",
              "      <td>-0.167951</td>\n",
              "      <td>-0.217397</td>\n",
              "      <td>-0.201473</td>\n",
              "      <td>-0.033619</td>\n",
              "      <td>-0.281987</td>\n",
              "    </tr>\n",
              "    <tr>\n",
              "      <th>25%</th>\n",
              "      <td>-0.015783</td>\n",
              "      <td>-0.015323</td>\n",
              "      <td>-0.021615</td>\n",
              "      <td>-0.001683</td>\n",
              "      <td>-0.035834</td>\n",
              "    </tr>\n",
              "    <tr>\n",
              "      <th>50%</th>\n",
              "      <td>0.013805</td>\n",
              "      <td>0.013803</td>\n",
              "      <td>0.015038</td>\n",
              "      <td>0.004711</td>\n",
              "      <td>0.005100</td>\n",
              "    </tr>\n",
              "    <tr>\n",
              "      <th>75%</th>\n",
              "      <td>0.035632</td>\n",
              "      <td>0.041292</td>\n",
              "      <td>0.043094</td>\n",
              "      <td>0.010866</td>\n",
              "      <td>0.041357</td>\n",
              "    </tr>\n",
              "    <tr>\n",
              "      <th>max</th>\n",
              "      <td>0.109292</td>\n",
              "      <td>0.148697</td>\n",
              "      <td>0.174566</td>\n",
              "      <td>0.038697</td>\n",
              "      <td>0.196670</td>\n",
              "    </tr>\n",
              "  </tbody>\n",
              "</table>\n",
              "</div>"
            ],
            "text/plain": [
              "       SPXT Index  SPTRMDCP Index  ...  LBUSTRUU Index  SPGSCITR Index\n",
              "count  312.000000      312.000000  ...      312.000000      312.000000\n",
              "mean     0.008690        0.010144  ...        0.004319        0.001994\n",
              "std      0.041585        0.048209  ...        0.010228        0.061252\n",
              "min     -0.167951       -0.217397  ...       -0.033619       -0.281987\n",
              "25%     -0.015783       -0.015323  ...       -0.001683       -0.035834\n",
              "50%      0.013805        0.013803  ...        0.004711        0.005100\n",
              "75%      0.035632        0.041292  ...        0.010866        0.041357\n",
              "max      0.109292        0.148697  ...        0.038697        0.196670\n",
              "\n",
              "[8 rows x 5 columns]"
            ]
          },
          "metadata": {
            "tags": []
          },
          "execution_count": 29
        }
      ]
    },
    {
      "cell_type": "code",
      "metadata": {
        "id": "wOzw-55R4Zdu",
        "colab_type": "code",
        "colab": {
          "base_uri": "https://localhost:8080/",
          "height": 283
        },
        "outputId": "af00b7c9-3fae-4a0f-9b36-e566bba207d9"
      },
      "source": [
        "prices.plot()"
      ],
      "execution_count": 35,
      "outputs": [
        {
          "output_type": "execute_result",
          "data": {
            "text/plain": [
              "<matplotlib.axes._subplots.AxesSubplot at 0x7fbf077e62e8>"
            ]
          },
          "metadata": {
            "tags": []
          },
          "execution_count": 35
        },
        {
          "output_type": "display_data",
          "data": {
            "image/png": "[encoded data removed]",
            "text/plain": [
              "<Figure size 432x288 with 1 Axes>"
            ]
          },
          "metadata": {
            "tags": []
          }
        }
      ]
    },
    {
      "cell_type": "code",
      "metadata": {
        "id": "iME48PoH4gHp",
        "colab_type": "code",
        "colab": {}
      },
      "source": [
        "total_ror = (monthly_rors+1).prod()-1"
      ],
      "execution_count": 0,
      "outputs": []
    },
    {
      "cell_type": "code",
      "metadata": {
        "id": "R5tJvOLt5yt9",
        "colab_type": "code",
        "colab": {
          "base_uri": "https://localhost:8080/",
          "height": 121
        },
        "outputId": "6a773412-0400-41c3-9313-0db4d61c38fd"
      },
      "source": [
        "vol = monthly_rors.std()*(12**0.5)\n",
        "vol"
      ],
      "execution_count": 49,
      "outputs": [
        {
          "output_type": "execute_result",
          "data": {
            "text/plain": [
              "SPXT Index        0.144055\n",
              "SPTRMDCP Index    0.167001\n",
              "SPTRSMCP Index    0.181201\n",
              "LBUSTRUU Index    0.035432\n",
              "SPGSCITR Index    0.212182\n",
              "dtype: float64"
            ]
          },
          "metadata": {
            "tags": []
          },
          "execution_count": 49
        }
      ]
    },
    {
      "cell_type": "code",
      "metadata": {
        "id": "ZW-TzUvN4z4n",
        "colab_type": "code",
        "colab": {
          "base_uri": "https://localhost:8080/",
          "height": 121
        },
        "outputId": "6c28fabf-a010-46a1-9a3a-bbdd92c6fd15"
      },
      "source": [
        "annl_ror = (1+total_ror)**(12/monthly_rors.count())-1\n",
        "annl_ror"
      ],
      "execution_count": 40,
      "outputs": [
        {
          "output_type": "execute_result",
          "data": {
            "text/plain": [
              "SPXT Index        0.097936\n",
              "SPTRMDCP Index    0.113074\n",
              "SPTRSMCP Index    0.103755\n",
              "LBUSTRUU Index    0.052426\n",
              "SPGSCITR Index    0.001025\n",
              "dtype: float64"
            ]
          },
          "metadata": {
            "tags": []
          },
          "execution_count": 40
        }
      ]
    },
    {
      "cell_type": "code",
      "metadata": {
        "id": "wJfoXWaz6T1r",
        "colab_type": "code",
        "colab": {
          "base_uri": "https://localhost:8080/",
          "height": 121
        },
        "outputId": "a654fd1e-ceca-43cc-97f3-4d055b2e146a"
      },
      "source": [
        "sharpe =(annl_ror/vol)\n",
        "sharpe"
      ],
      "execution_count": 51,
      "outputs": [
        {
          "output_type": "execute_result",
          "data": {
            "text/plain": [
              "SPXT Index        0.679854\n",
              "SPTRMDCP Index    0.677088\n",
              "SPTRSMCP Index    0.572594\n",
              "LBUSTRUU Index    1.479609\n",
              "SPGSCITR Index    0.004832\n",
              "dtype: float64"
            ]
          },
          "metadata": {
            "tags": []
          },
          "execution_count": 51
        }
      ]
    }
  ]
}
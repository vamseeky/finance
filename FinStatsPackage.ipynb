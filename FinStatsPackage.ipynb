{
  "nbformat": 4,
  "nbformat_minor": 0,
  "metadata": {
    "colab": {
      "name": "FinStatsPackage.ipynb",
      "provenance": [],
      "collapsed_sections": [],
      "authorship_tag": "ABX9TyM2xIpyUb+vnIyrwGojZfs+",
      "include_colab_link": true
    },
    "kernelspec": {
      "name": "python3",
      "display_name": "Python 3"
    }
  },
  "cells": [
    {
      "cell_type": "markdown",
      "metadata": {
        "id": "view-in-github",
        "colab_type": "text"
      },
      "source": [
        "<a href=\"https://colab.research.google.com/github/vamseeky/finance/blob/master/FinStatsPackage.ipynb\" target=\"_parent\"><img src=\"https://colab.research.google.com/assets/colab-badge.svg\" alt=\"Open In Colab\"/></a>"
      ]
    },
    {
      "cell_type": "code",
      "metadata": {
        "id": "htB1V3KcNsRn",
        "colab_type": "code",
        "colab": {}
      },
      "source": [
        "from google.colab import drive\n",
        "drive.mount('/content/drive')"
      ],
      "execution_count": 0,
      "outputs": []
    },
    {
      "cell_type": "code",
      "metadata": {
        "id": "3kNN90c3Ma_o",
        "colab_type": "code",
        "colab": {
          "base_uri": "https://localhost:8080/",
          "height": 202
        },
        "outputId": "9738ab86-8391-47cf-8bb7-0606796af664"
      },
      "source": [
        "import pandas as pd\n",
        "monthly_prices = pd.read_csv('index_prices.csv', header=0,index_col=0, parse_dates=True )\n",
        "monthly_rors = monthly_prices.pct_change().dropna()\n",
        "monthly_rors.index = monthly_rors.index.to_period(\"M\")\n",
        "\n",
        "\n",
        "def fin_stats(monthly_returns):\n",
        "  annl_ror = (1+monthly_returns).prod()**(12/monthly_returns.count())-1\n",
        "  annl_vol = monthly_returns.std()*(12**0.5)\n",
        "  sharpe_3pctHurdle   = (annl_ror-0.03)/annl_vol\n",
        "  VAMI = 1000*(1+monthly_returns).cumprod()\n",
        "  previous_peak = VAMI.cummax()\n",
        "  drawdowns = VAMI/previous_peak-1\n",
        "  worst_dd = drawdowns.min()\n",
        "  calmar = annl_ror/worst_dd\n",
        "  return pd.DataFrame({\n",
        "      \"Ann_ROR\": annl_ror,\n",
        "      \"Ann_Vol\": annl_vol,\n",
        "      \"Sharpe_Ratio_3%_Rf\": sharpe_3pctHurdle,\n",
        "      \"Worst_DrawDown\": worst_dd,\n",
        "      \"Calmar_Ratio\": calmar\n",
        "  })\n",
        "\n",
        "fin_stats(monthly_rors)\n"
      ],
      "execution_count": 7,
      "outputs": [
        {
          "output_type": "execute_result",
          "data": {
            "text/html": [
              "<div>\n",
              "<style scoped>\n",
              "    .dataframe tbody tr th:only-of-type {\n",
              "        vertical-align: middle;\n",
              "    }\n",
              "\n",
              "    .dataframe tbody tr th {\n",
              "        vertical-align: top;\n",
              "    }\n",
              "\n",
              "    .dataframe thead th {\n",
              "        text-align: right;\n",
              "    }\n",
              "</style>\n",
              "<table border=\"1\" class=\"dataframe\">\n",
              "  <thead>\n",
              "    <tr style=\"text-align: right;\">\n",
              "      <th></th>\n",
              "      <th>Ann_ROR</th>\n",
              "      <th>Ann_Vol</th>\n",
              "      <th>Sharpe_Ratio_3%_Rf</th>\n",
              "      <th>Worst_DrawDown</th>\n",
              "      <th>Calmar_Ratio</th>\n",
              "    </tr>\n",
              "  </thead>\n",
              "  <tbody>\n",
              "    <tr>\n",
              "      <th>SPXT Index</th>\n",
              "      <td>0.097936</td>\n",
              "      <td>0.144055</td>\n",
              "      <td>0.471600</td>\n",
              "      <td>-0.509488</td>\n",
              "      <td>-0.192225</td>\n",
              "    </tr>\n",
              "    <tr>\n",
              "      <th>SPTRMDCP Index</th>\n",
              "      <td>0.113074</td>\n",
              "      <td>0.167001</td>\n",
              "      <td>0.497449</td>\n",
              "      <td>-0.496167</td>\n",
              "      <td>-0.227896</td>\n",
              "    </tr>\n",
              "    <tr>\n",
              "      <th>SPTRSMCP Index</th>\n",
              "      <td>0.103755</td>\n",
              "      <td>0.181201</td>\n",
              "      <td>0.407033</td>\n",
              "      <td>-0.521492</td>\n",
              "      <td>-0.198958</td>\n",
              "    </tr>\n",
              "    <tr>\n",
              "      <th>LBUSTRUU Index</th>\n",
              "      <td>0.052426</td>\n",
              "      <td>0.035432</td>\n",
              "      <td>0.632926</td>\n",
              "      <td>-0.038288</td>\n",
              "      <td>-1.369247</td>\n",
              "    </tr>\n",
              "    <tr>\n",
              "      <th>SPGSCITR Index</th>\n",
              "      <td>0.001025</td>\n",
              "      <td>0.212182</td>\n",
              "      <td>-0.136556</td>\n",
              "      <td>-0.808997</td>\n",
              "      <td>-0.001267</td>\n",
              "    </tr>\n",
              "  </tbody>\n",
              "</table>\n",
              "</div>"
            ],
            "text/plain": [
              "                 Ann_ROR   Ann_Vol  ...  Worst_DrawDown  Calmar_Ratio\n",
              "SPXT Index      0.097936  0.144055  ...       -0.509488     -0.192225\n",
              "SPTRMDCP Index  0.113074  0.167001  ...       -0.496167     -0.227896\n",
              "SPTRSMCP Index  0.103755  0.181201  ...       -0.521492     -0.198958\n",
              "LBUSTRUU Index  0.052426  0.035432  ...       -0.038288     -1.369247\n",
              "SPGSCITR Index  0.001025  0.212182  ...       -0.808997     -0.001267\n",
              "\n",
              "[5 rows x 5 columns]"
            ]
          },
          "metadata": {
            "tags": []
          },
          "execution_count": 7
        }
      ]
    }
  ]
}